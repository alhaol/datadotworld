{
 "cells": [
  {
   "cell_type": "markdown",
   "metadata": {
    "deletable": true,
    "editable": true
   },
   "source": [
    "# data.world datacamp tutorial"
   ]
  },
  {
   "cell_type": "markdown",
   "metadata": {
    "deletable": true,
    "editable": true
   },
   "source": [
    "> #### Setup  \n",
    "\n",
    "> Before running data.world notebooks for the first time, you'll need to:  \n",
    "1. Install data.world's Python package, including optional `pandas` dependencies: \n",
    "```shell\n",
    "pip install datadotworld[pandas]\n",
    "```\n",
    "1. Obtain an API access token at https://data.world/settings/advanced\n",
    "1. Store API access token using the `dw` command-line tool: \n",
    "```shell\n",
    "dw configure\n",
    "```\n",
    "\n",
    "3 ) Copy/Paste in your data.world API token when prompted. Find your token at https://data.world/settings/advanced\n",
    "\n",
    "We've also included one final code example here that shows some more ways to inspect a dataset, so check it out and just click submit to finish the course. We hope you enjoyed it!\n",
    "\n",
    "> Once your environment is set up, these steps do not need to be repeated for other data.world notebooks."
   ]
  },
  {
   "cell_type": "code",
   "execution_count": 4,
   "metadata": {
    "collapsed": false
   },
   "outputs": [
    {
     "name": "stdout",
     "output_type": "stream",
     "text": [
      "It took 0.00874174833298 min to dowanload 1 miilion AIS records\n"
     ]
    }
   ],
   "source": [
    "# Import the datadotworld module as dw and the sys module\n",
    "import datadotworld as dw\n",
    "import sys\n",
    "import pprint as pp\n",
    "import time \n",
    "\n",
    "Start=time.time()\n",
    "\n",
    "# Import a dataset\n",
    "aisdata = dw.load_dataset('alhaol/ais')\n",
    "\n",
    "print ('It took {0} min to dowanload 1 miilion AIS records'. \\\n",
    "       format(float(time.time()-Start)/60))"
   ]
  },
  {
   "cell_type": "code",
   "execution_count": 5,
   "metadata": {
    "collapsed": false
   },
   "outputs": [
    {
     "data": {
      "text/plain": [
       "[u'dyn1000000', u'stat1000000']"
      ]
     },
     "execution_count": 5,
     "metadata": {},
     "output_type": "execute_result"
    }
   ],
   "source": [
    "list(aisdata.dataframes)"
   ]
  },
  {
   "cell_type": "code",
   "execution_count": 6,
   "metadata": {
    "collapsed": false
   },
   "outputs": [
    {
     "ename": "IndexError",
     "evalue": "tuple index out of range",
     "output_type": "error",
     "traceback": [
      "\u001b[0;31m---------------------------------------------------------------------------\u001b[0m",
      "\u001b[0;31mIndexError\u001b[0m                                Traceback (most recent call last)",
      "\u001b[0;32m<ipython-input-6-a402c3e8776a>\u001b[0m in \u001b[0;36m<module>\u001b[0;34m()\u001b[0m\n\u001b[1;32m      2\u001b[0m \u001b[0mDYN\u001b[0m\u001b[0;34m=\u001b[0m\u001b[0maisdata\u001b[0m\u001b[0;34m.\u001b[0m\u001b[0mdataframes\u001b[0m\u001b[0;34m[\u001b[0m\u001b[0;34m'dyn1000000'\u001b[0m\u001b[0;34m]\u001b[0m\u001b[0;34m\u001b[0m\u001b[0m\n\u001b[1;32m      3\u001b[0m \u001b[0mSTAT\u001b[0m\u001b[0;34m=\u001b[0m\u001b[0maisdata\u001b[0m\u001b[0;34m.\u001b[0m\u001b[0mdataframes\u001b[0m\u001b[0;34m[\u001b[0m\u001b[0;34m'stat1000000'\u001b[0m\u001b[0;34m]\u001b[0m\u001b[0;34m\u001b[0m\u001b[0m\n\u001b[0;32m----> 4\u001b[0;31m \u001b[0;32mprint\u001b[0m \u001b[0;34m(\u001b[0m\u001b[0;34m'It took {0} min to dowanload {1} MB DYN and {2} MB STAT '\u001b[0m\u001b[0;34m.\u001b[0m        \u001b[0mformat\u001b[0m\u001b[0;34m(\u001b[0m\u001b[0mfloat\u001b[0m\u001b[0;34m(\u001b[0m\u001b[0mtime\u001b[0m\u001b[0;34m.\u001b[0m\u001b[0mtime\u001b[0m\u001b[0;34m(\u001b[0m\u001b[0;34m)\u001b[0m\u001b[0;34m-\u001b[0m\u001b[0mStart\u001b[0m\u001b[0;34m)\u001b[0m\u001b[0;34m/\u001b[0m\u001b[0;36m60\u001b[0m\u001b[0;34m)\u001b[0m\u001b[0;34m,\u001b[0m        \u001b[0msys\u001b[0m\u001b[0;34m.\u001b[0m\u001b[0mgetsizeof\u001b[0m\u001b[0;34m(\u001b[0m\u001b[0mDYN\u001b[0m\u001b[0;34m)\u001b[0m\u001b[0;34m/\u001b[0m\u001b[0;36m1e6\u001b[0m\u001b[0;34m,\u001b[0m \u001b[0msys\u001b[0m\u001b[0;34m.\u001b[0m\u001b[0mgetsizeof\u001b[0m\u001b[0;34m(\u001b[0m\u001b[0mSTAT\u001b[0m\u001b[0;34m)\u001b[0m\u001b[0;34m)\u001b[0m\u001b[0;34m\u001b[0m\u001b[0m\n\u001b[0m",
      "\u001b[0;31mIndexError\u001b[0m: tuple index out of range"
     ]
    }
   ],
   "source": [
    "Start=time.time()\n",
    "DYN=aisdata.dataframes['dyn1000000']\n",
    "STAT=aisdata.dataframes['stat1000000']\n",
    "print ('It took {0} min to dowanload {1} MB DYN and {2} MB STAT '. \\\n",
    "       format(float(time.time()-Start)/60), \\\n",
    "       sys.getsizeof(DYN)/1e6, sys.getsizeof(STAT))"
   ]
  },
  {
   "cell_type": "code",
   "execution_count": null,
   "metadata": {
    "collapsed": false
   },
   "outputs": [],
   "source": [
    "#DYN.to_csv('dyn1000000.csv')"
   ]
  },
  {
   "cell_type": "code",
   "execution_count": null,
   "metadata": {
    "collapsed": false
   },
   "outputs": [],
   "source": [
    "# Import the datadotworld module as dw and the sys module\n",
    "import datadotworld as dw\n",
    "import sys\n",
    "import pprint as pp\n",
    "\n",
    "# Import a dataset\n",
    "refugee_dataset = dw.load_dataset('nrippner/refugee-host-nations')\n",
    "\n",
    "# Get the size of the dataset:\n",
    "print(\" \")\n",
    "print('The Size of the DataSet= {0}'.format(sys.getsizeof(refugee_dataset)))\n",
    "print(\" \")\n",
    "\n",
    "# List all of the data files:\n",
    "dataframes = refugee_dataset.dataframes\n",
    "print(\" \")\n",
    "for df in dataframes:\n",
    "    pp.pprint(df)\n",
    "print(\" \")\n",
    "    \n",
    "# print all of the files in a dataset:\n",
    "resources = refugee_dataset.describe()['resources']\n",
    "pp.pprint('name:')\n",
    "\n",
    "for r in resources:\n",
    "    pp.pprint(r['name'])\n",
    "\n",
    "print(\" \")\n",
    "\n",
    "pp.pprint('/n type of file:')\n",
    "\n",
    "for r in resources:\n",
    "    pp.pprint(r['format'])\n"
   ]
  },
  {
   "cell_type": "code",
   "execution_count": null,
   "metadata": {
    "collapsed": true,
    "deletable": true,
    "editable": true
   },
   "outputs": [],
   "source": [
    "# import datadotworld module and pp.pprint\n",
    "\n",
    "import datadotworld as dw\n",
    "import os\n",
    "import pprint as pp"
   ]
  },
  {
   "cell_type": "code",
   "execution_count": null,
   "metadata": {
    "collapsed": true,
    "deletable": true,
    "editable": true
   },
   "outputs": [],
   "source": [
    "# import matplotlib for plots\n",
    "\n",
    "import matplotlib\n",
    "import matplotlib.pyplot as plt\n",
    "%matplotlib inline"
   ]
  },
  {
   "cell_type": "code",
   "execution_count": null,
   "metadata": {
    "collapsed": true,
    "deletable": true,
    "editable": true
   },
   "outputs": [],
   "source": [
    "# load_dataset examples\n",
    "\n",
    "dataset = dw.load_dataset('https://data.world/stephen-hoover/chicago-city-council-votes')"
   ]
  },
  {
   "cell_type": "code",
   "execution_count": null,
   "metadata": {
    "collapsed": false,
    "deletable": true,
    "editable": true
   },
   "outputs": [],
   "source": [
    "# describe examples: describe dataset\n",
    "\n",
    "dataset.describe()"
   ]
  },
  {
   "cell_type": "code",
   "execution_count": null,
   "metadata": {
    "collapsed": false,
    "deletable": true,
    "editable": true
   },
   "outputs": [],
   "source": [
    "# describe examples: describe specific dataset resource\n",
    "\n",
    "dataset.describe('alderman_votes')"
   ]
  },
  {
   "cell_type": "code",
   "execution_count": null,
   "metadata": {
    "collapsed": false,
    "deletable": true,
    "editable": true
   },
   "outputs": [],
   "source": [
    "# Accessing the data\n",
    "## After loading a dataset object, you can access the data via: `raw_data`, `tables`, or `dataframes`.\n",
    "## Each of these returns a dictionary of values: `bytes`, `list` and `pandas.DataFrame` objects, respectively.\n",
    "\n",
    "votes_dataframe = dataset.dataframes['alderman_votes']\n",
    "votes_dataframe.head(3)"
   ]
  },
  {
   "cell_type": "code",
   "execution_count": null,
   "metadata": {
    "collapsed": false,
    "deletable": true,
    "editable": true
   },
   "outputs": [],
   "source": [
    "# Working with multiple datasets\n",
    "\n",
    "# Load two datasets from data.world that you'd like to merge:\n",
    "int_dataset = dw.load_dataset('https://data.world/jonloyens/intermediate-data-world')\n",
    "fipsCodes_dataset = dw.load_dataset('https://data.world/uscensusbureau/fips-state-codes')\n",
    "\n",
    "# Create two dataframes\n",
    "police_shootings = int_dataset.dataframes['fatal_police_shootings_data']\n",
    "state_abbrvs = fipsCodes_dataset.dataframes['statesfipscodes']\n",
    "\n",
    "## Merge the two datasets together on the state and stusab fields:\n",
    "merged_dataframe = police_shootings.merge(state_abbrvs, how = 'left', left_on = 'state', right_on='stusab')\n",
    "\n",
    "## Create a 'citystate' column in the merged_dataframe dataframe with the format `city, state_name`:\n",
    "merged_dataframe[\"citystate\"] = merged_dataframe[\"city\"] + \", \" + merged_dataframe[\"state_name\"]\n",
    "\n",
    "## Print head of merged dataframe\n",
    "pp.pprint(merged_dataframe.head(5))"
   ]
  },
  {
   "cell_type": "code",
   "execution_count": null,
   "metadata": {
    "collapsed": false,
    "deletable": true,
    "editable": true
   },
   "outputs": [],
   "source": [
    "# Querying data.world via SDK\n",
    "## Query using SQL or SPARQL query languages. SQL is default, or add `query_type='sparql'` as a parameter for SPARQL. \n",
    "## The `query()` method gives you access to three properties to access the resulting data: `raw_data`, `table`, and `dataframe`.\n",
    "\n",
    "# SQL\n",
    "\n",
    "## Single table query exercise\n",
    "\n",
    "# Define query string\n",
    "sql_query = \"SELECT * FROM `unhcr_all` WHERE Year = 2010\"\n",
    "\n",
    "# Query table, passing query string as parameter\n",
    "query2010 = dw.query('https://data.world/nrippner/refugee-host-nations', sql_query)\n",
    "\n",
    "# Create dataframe using dataframe property\n",
    "unhcr2010 = query2010.dataframe\n",
    "\n",
    "# Print first 5 rows of results\n",
    "unhcr2010.head(5)"
   ]
  },
  {
   "cell_type": "code",
   "execution_count": null,
   "metadata": {
    "collapsed": true
   },
   "outputs": [],
   "source": [
    "# Querying data.world via SDK\n",
    "## Query using SQL or SPARQL query languages. SQL is default, or add `query_type='sparql'` as a parameter for SPARQL. \n",
    "## The `query()` method gives you access to three properties to access the resulting data: `raw_data`, `table`, and `dataframe`.\n",
    "\n",
    "# SQL\n",
    "\n",
    "## Single table query exercise\n",
    "\n",
    "# Define query string\n",
    "sql_query = \"SELECT * FROM `unhcr_all` WHERE Year = 2010\"\n",
    "\n",
    "# Query table, passing query string as parameter\n",
    "query2010 = dw.query('https://data.world/nrippner/refugee-host-nations', sql_query)\n",
    "\n",
    "# Create dataframe using dataframe property\n",
    "unhcr2010 = query2010.dataframe\n",
    "\n",
    "# Print first 5 rows of results\n",
    "unhcr2010.head(5)"
   ]
  },
  {
   "cell_type": "code",
   "execution_count": 11,
   "metadata": {
    "collapsed": false
   },
   "outputs": [
    {
     "data": {
      "text/plain": [
       "[u'dyn1000000', u'stat1000000']"
      ]
     },
     "execution_count": 11,
     "metadata": {},
     "output_type": "execute_result"
    }
   ],
   "source": [
    "list(aisdata.tables)"
   ]
  },
  {
   "cell_type": "code",
   "execution_count": 20,
   "metadata": {
    "collapsed": false
   },
   "outputs": [
    {
     "data": {
      "text/html": [
       "<div>\n",
       "<table border=\"1\" class=\"dataframe\">\n",
       "  <thead>\n",
       "    <tr style=\"text-align: right;\">\n",
       "      <th></th>\n",
       "      <th>latitude</th>\n",
       "      <th>mmsi</th>\n",
       "      <th>navigational_status</th>\n",
       "      <th>speed_over_ground</th>\n",
       "    </tr>\n",
       "  </thead>\n",
       "  <tbody>\n",
       "    <tr>\n",
       "      <th>0</th>\n",
       "      <td>-34.775603</td>\n",
       "      <td>770576272</td>\n",
       "      <td>UNDER_WAY_USING_ENGINE</td>\n",
       "      <td>26.802532</td>\n",
       "    </tr>\n",
       "    <tr>\n",
       "      <th>1</th>\n",
       "      <td>-34.775368</td>\n",
       "      <td>770576272</td>\n",
       "      <td>UNDER_WAY_USING_ENGINE</td>\n",
       "      <td>26.853977</td>\n",
       "    </tr>\n",
       "    <tr>\n",
       "      <th>2</th>\n",
       "      <td>-34.775023</td>\n",
       "      <td>770576272</td>\n",
       "      <td>UNDER_WAY_USING_ENGINE</td>\n",
       "      <td>26.905421</td>\n",
       "    </tr>\n",
       "    <tr>\n",
       "      <th>3</th>\n",
       "      <td>-34.778433</td>\n",
       "      <td>770576272</td>\n",
       "      <td>UNDER_WAY_USING_ENGINE</td>\n",
       "      <td>26.648199</td>\n",
       "    </tr>\n",
       "    <tr>\n",
       "      <th>4</th>\n",
       "      <td>-34.778875</td>\n",
       "      <td>770576272</td>\n",
       "      <td>UNDER_WAY_USING_ENGINE</td>\n",
       "      <td>26.751088</td>\n",
       "    </tr>\n",
       "  </tbody>\n",
       "</table>\n",
       "</div>"
      ],
      "text/plain": [
       "    latitude       mmsi     navigational_status  speed_over_ground\n",
       "0 -34.775603  770576272  UNDER_WAY_USING_ENGINE          26.802532\n",
       "1 -34.775368  770576272  UNDER_WAY_USING_ENGINE          26.853977\n",
       "2 -34.775023  770576272  UNDER_WAY_USING_ENGINE          26.905421\n",
       "3 -34.778433  770576272  UNDER_WAY_USING_ENGINE          26.648199\n",
       "4 -34.778875  770576272  UNDER_WAY_USING_ENGINE          26.751088"
      ]
     },
     "execution_count": 20,
     "metadata": {},
     "output_type": "execute_result"
    }
   ],
   "source": [
    "sql_query=''' \n",
    "SELECT d.mmsi, d.latitude,d.navigational_status,d.speed_over_ground\n",
    "FROM dyn1000000 as d\n",
    "WHERE d.speed_over_ground>25\n",
    "LIMIT 100;\n",
    "'''\n",
    "query2010 = dw.query('alhaol/ais', sql_query)\n",
    "query2010=query2010.dataframe\n",
    "query2010.head()"
   ]
  },
  {
   "cell_type": "code",
   "execution_count": 35,
   "metadata": {
    "collapsed": false,
    "scrolled": false
   },
   "outputs": [
    {
     "data": {
      "text/html": [
       "<div>\n",
       "<table border=\"1\" class=\"dataframe\">\n",
       "  <thead>\n",
       "    <tr style=\"text-align: right;\">\n",
       "      <th></th>\n",
       "      <th>SpeedLevel</th>\n",
       "      <th>latitude</th>\n",
       "      <th>speed_over_ground</th>\n",
       "    </tr>\n",
       "  </thead>\n",
       "  <tbody>\n",
       "    <tr>\n",
       "      <th>0</th>\n",
       "      <td>GOOD SPEED</td>\n",
       "      <td>-14.859442</td>\n",
       "      <td>38.017412</td>\n",
       "    </tr>\n",
       "    <tr>\n",
       "      <th>1</th>\n",
       "      <td>GOOD SPEED</td>\n",
       "      <td>-17.801223</td>\n",
       "      <td>47.586070</td>\n",
       "    </tr>\n",
       "    <tr>\n",
       "      <th>2</th>\n",
       "      <td>GOOD SPEED</td>\n",
       "      <td>-17.803242</td>\n",
       "      <td>45.939849</td>\n",
       "    </tr>\n",
       "    <tr>\n",
       "      <th>3</th>\n",
       "      <td>GOOD SPEED</td>\n",
       "      <td>-17.803558</td>\n",
       "      <td>45.785516</td>\n",
       "    </tr>\n",
       "    <tr>\n",
       "      <th>4</th>\n",
       "      <td>GOOD SPEED</td>\n",
       "      <td>-17.804533</td>\n",
       "      <td>46.454293</td>\n",
       "    </tr>\n",
       "  </tbody>\n",
       "</table>\n",
       "</div>"
      ],
      "text/plain": [
       "   SpeedLevel   latitude  speed_over_ground\n",
       "0  GOOD SPEED -14.859442          38.017412\n",
       "1  GOOD SPEED -17.801223          47.586070\n",
       "2  GOOD SPEED -17.803242          45.939849\n",
       "3  GOOD SPEED -17.803558          45.785516\n",
       "4  GOOD SPEED -17.804533          46.454293"
      ]
     },
     "execution_count": 35,
     "metadata": {},
     "output_type": "execute_result"
    }
   ],
   "source": [
    "sql_query='''\n",
    "SELECT d.latitude,d.speed_over_ground,\n",
    "CASE WHEN d.speed_over_ground >50 THEN 'High Speed'\n",
    "     WHEN d.speed_over_ground <1 THEN 'LOW Speed'\n",
    "     ELSE 'GOOD SPEED'\n",
    "END\n",
    "AS SpeedLevel\n",
    "FROM dyn1000000 AS d\n",
    "WHERE d.speed_over_ground>30\n",
    "ORDER BY SpeedLevel\n",
    "LIMIT 100;\n",
    "'''\n",
    "query2010 = dw.query('alhaol/ais', sql_query)\n",
    "query2010=query2010.dataframe\n",
    "query2010.head()\n"
   ]
  },
  {
   "cell_type": "code",
   "execution_count": 36,
   "metadata": {
    "collapsed": false,
    "scrolled": true
   },
   "outputs": [
    {
     "data": {
      "text/plain": [
       "['timestamp',\n",
       " 'mmsi',\n",
       " 'id',\n",
       " 'latitude',\n",
       " 'longitude',\n",
       " 'navigational_status',\n",
       " 'rate_of_turn',\n",
       " 'speed_over_ground',\n",
       " 'position_accuracy',\n",
       " 'course_over_ground',\n",
       " 'true_heading',\n",
       " 'source',\n",
       " 'location']"
      ]
     },
     "execution_count": 36,
     "metadata": {},
     "output_type": "execute_result"
    }
   ],
   "source": [
    "DYN.columns.tolist()"
   ]
  },
  {
   "cell_type": "code",
   "execution_count": 37,
   "metadata": {
    "collapsed": false
   },
   "outputs": [
    {
     "data": {
      "text/plain": [
       "['id',\n",
       " 'timestamp',\n",
       " 'mmsi',\n",
       " 'imo',\n",
       " 'call_sign',\n",
       " 'ownship',\n",
       " 'ship_type',\n",
       " 'length_to_bow',\n",
       " 'length_to_port',\n",
       " 'length_to_starboard',\n",
       " 'length_to_stern',\n",
       " 'eta',\n",
       " 'draught',\n",
       " 'destination',\n",
       " 'source']"
      ]
     },
     "execution_count": 37,
     "metadata": {},
     "output_type": "execute_result"
    }
   ],
   "source": [
    "STAT.columns.tolist()"
   ]
  },
  {
   "cell_type": "code",
   "execution_count": 41,
   "metadata": {
    "collapsed": false
   },
   "outputs": [
    {
     "data": {
      "text/html": [
       "<div>\n",
       "<table border=\"1\" class=\"dataframe\">\n",
       "  <thead>\n",
       "    <tr style=\"text-align: right;\">\n",
       "      <th></th>\n",
       "      <th>SPEED</th>\n",
       "      <th>TYPE</th>\n",
       "      <th>mmsi</th>\n",
       "    </tr>\n",
       "  </thead>\n",
       "  <tbody>\n",
       "    <tr>\n",
       "      <th>0</th>\n",
       "      <td>5.401662</td>\n",
       "      <td>OTHER_TYPE_RESERVED_1</td>\n",
       "      <td>273457410</td>\n",
       "    </tr>\n",
       "    <tr>\n",
       "      <th>1</th>\n",
       "      <td>5.401662</td>\n",
       "      <td>OTHER_TYPE_RESERVED_1</td>\n",
       "      <td>273457410</td>\n",
       "    </tr>\n",
       "    <tr>\n",
       "      <th>2</th>\n",
       "      <td>5.401662</td>\n",
       "      <td>OTHER_TYPE_RESERVED_1</td>\n",
       "      <td>273457410</td>\n",
       "    </tr>\n",
       "    <tr>\n",
       "      <th>3</th>\n",
       "      <td>5.401662</td>\n",
       "      <td>OTHER_TYPE_RESERVED_1</td>\n",
       "      <td>273457410</td>\n",
       "    </tr>\n",
       "    <tr>\n",
       "      <th>4</th>\n",
       "      <td>5.401662</td>\n",
       "      <td>OTHER_TYPE_RESERVED_1</td>\n",
       "      <td>273457410</td>\n",
       "    </tr>\n",
       "    <tr>\n",
       "      <th>5</th>\n",
       "      <td>5.401662</td>\n",
       "      <td>OTHER_TYPE_RESERVED_1</td>\n",
       "      <td>273457410</td>\n",
       "    </tr>\n",
       "    <tr>\n",
       "      <th>6</th>\n",
       "      <td>5.401662</td>\n",
       "      <td>OTHER_TYPE_RESERVED_1</td>\n",
       "      <td>273457410</td>\n",
       "    </tr>\n",
       "    <tr>\n",
       "      <th>7</th>\n",
       "      <td>5.401662</td>\n",
       "      <td>OTHER_TYPE_RESERVED_1</td>\n",
       "      <td>273457410</td>\n",
       "    </tr>\n",
       "    <tr>\n",
       "      <th>8</th>\n",
       "      <td>5.401662</td>\n",
       "      <td>OTHER_TYPE_RESERVED_1</td>\n",
       "      <td>273457410</td>\n",
       "    </tr>\n",
       "    <tr>\n",
       "      <th>9</th>\n",
       "      <td>5.401662</td>\n",
       "      <td>OTHER_TYPE_RESERVED_1</td>\n",
       "      <td>273457410</td>\n",
       "    </tr>\n",
       "    <tr>\n",
       "      <th>10</th>\n",
       "      <td>5.401662</td>\n",
       "      <td>OTHER_TYPE_RESERVED_1</td>\n",
       "      <td>273457410</td>\n",
       "    </tr>\n",
       "    <tr>\n",
       "      <th>11</th>\n",
       "      <td>5.401662</td>\n",
       "      <td>OTHER_TYPE_RESERVED_1</td>\n",
       "      <td>273457410</td>\n",
       "    </tr>\n",
       "    <tr>\n",
       "      <th>12</th>\n",
       "      <td>5.401662</td>\n",
       "      <td>OTHER_TYPE_RESERVED_1</td>\n",
       "      <td>273457410</td>\n",
       "    </tr>\n",
       "    <tr>\n",
       "      <th>13</th>\n",
       "      <td>5.401662</td>\n",
       "      <td>OTHER_TYPE_RESERVED_1</td>\n",
       "      <td>273457410</td>\n",
       "    </tr>\n",
       "    <tr>\n",
       "      <th>14</th>\n",
       "      <td>5.401662</td>\n",
       "      <td>OTHER_TYPE_RESERVED_1</td>\n",
       "      <td>273457410</td>\n",
       "    </tr>\n",
       "    <tr>\n",
       "      <th>15</th>\n",
       "      <td>5.401662</td>\n",
       "      <td>OTHER_TYPE_RESERVED_1</td>\n",
       "      <td>273457410</td>\n",
       "    </tr>\n",
       "    <tr>\n",
       "      <th>16</th>\n",
       "      <td>5.401662</td>\n",
       "      <td>OTHER_TYPE_RESERVED_1</td>\n",
       "      <td>273457410</td>\n",
       "    </tr>\n",
       "    <tr>\n",
       "      <th>17</th>\n",
       "      <td>5.401662</td>\n",
       "      <td>OTHER_TYPE_RESERVED_1</td>\n",
       "      <td>273457410</td>\n",
       "    </tr>\n",
       "    <tr>\n",
       "      <th>18</th>\n",
       "      <td>5.401662</td>\n",
       "      <td>OTHER_TYPE_RESERVED_1</td>\n",
       "      <td>273457410</td>\n",
       "    </tr>\n",
       "    <tr>\n",
       "      <th>19</th>\n",
       "      <td>5.401662</td>\n",
       "      <td>OTHER_TYPE_RESERVED_1</td>\n",
       "      <td>273457410</td>\n",
       "    </tr>\n",
       "    <tr>\n",
       "      <th>20</th>\n",
       "      <td>5.401662</td>\n",
       "      <td>OTHER_TYPE_RESERVED_1</td>\n",
       "      <td>273457410</td>\n",
       "    </tr>\n",
       "    <tr>\n",
       "      <th>21</th>\n",
       "      <td>5.401662</td>\n",
       "      <td>OTHER_TYPE_RESERVED_1</td>\n",
       "      <td>273457410</td>\n",
       "    </tr>\n",
       "    <tr>\n",
       "      <th>22</th>\n",
       "      <td>5.401662</td>\n",
       "      <td>OTHER_TYPE_RESERVED_1</td>\n",
       "      <td>273457410</td>\n",
       "    </tr>\n",
       "    <tr>\n",
       "      <th>23</th>\n",
       "      <td>5.401662</td>\n",
       "      <td>OTHER_TYPE_RESERVED_1</td>\n",
       "      <td>273457410</td>\n",
       "    </tr>\n",
       "    <tr>\n",
       "      <th>24</th>\n",
       "      <td>5.401662</td>\n",
       "      <td>OTHER_TYPE_RESERVED_1</td>\n",
       "      <td>273457410</td>\n",
       "    </tr>\n",
       "    <tr>\n",
       "      <th>25</th>\n",
       "      <td>5.401662</td>\n",
       "      <td>OTHER_TYPE_RESERVED_1</td>\n",
       "      <td>273457410</td>\n",
       "    </tr>\n",
       "    <tr>\n",
       "      <th>26</th>\n",
       "      <td>7.819549</td>\n",
       "      <td>TANKER_ALL_OF_TYPE</td>\n",
       "      <td>240865000</td>\n",
       "    </tr>\n",
       "    <tr>\n",
       "      <th>27</th>\n",
       "      <td>7.819549</td>\n",
       "      <td>TANKER_ALL_OF_TYPE</td>\n",
       "      <td>240865000</td>\n",
       "    </tr>\n",
       "    <tr>\n",
       "      <th>28</th>\n",
       "      <td>7.819549</td>\n",
       "      <td>TANKER_ALL_OF_TYPE</td>\n",
       "      <td>240865000</td>\n",
       "    </tr>\n",
       "    <tr>\n",
       "      <th>29</th>\n",
       "      <td>5.813217</td>\n",
       "      <td>CARGO_ALL_OF_TYPE</td>\n",
       "      <td>636015431</td>\n",
       "    </tr>\n",
       "    <tr>\n",
       "      <th>...</th>\n",
       "      <td>...</td>\n",
       "      <td>...</td>\n",
       "      <td>...</td>\n",
       "    </tr>\n",
       "    <tr>\n",
       "      <th>70</th>\n",
       "      <td>5.967550</td>\n",
       "      <td>CARGO_ALL_OF_TYPE</td>\n",
       "      <td>273137200</td>\n",
       "    </tr>\n",
       "    <tr>\n",
       "      <th>71</th>\n",
       "      <td>5.967550</td>\n",
       "      <td>CARGO_ALL_OF_TYPE</td>\n",
       "      <td>273137200</td>\n",
       "    </tr>\n",
       "    <tr>\n",
       "      <th>72</th>\n",
       "      <td>5.967550</td>\n",
       "      <td>CARGO_ALL_OF_TYPE</td>\n",
       "      <td>273137200</td>\n",
       "    </tr>\n",
       "    <tr>\n",
       "      <th>73</th>\n",
       "      <td>5.967550</td>\n",
       "      <td>CARGO_ALL_OF_TYPE</td>\n",
       "      <td>273137200</td>\n",
       "    </tr>\n",
       "    <tr>\n",
       "      <th>74</th>\n",
       "      <td>5.967550</td>\n",
       "      <td>CARGO_ALL_OF_TYPE</td>\n",
       "      <td>273137200</td>\n",
       "    </tr>\n",
       "    <tr>\n",
       "      <th>75</th>\n",
       "      <td>5.967550</td>\n",
       "      <td>CARGO_ALL_OF_TYPE</td>\n",
       "      <td>273137200</td>\n",
       "    </tr>\n",
       "    <tr>\n",
       "      <th>76</th>\n",
       "      <td>5.967550</td>\n",
       "      <td>CARGO_ALL_OF_TYPE</td>\n",
       "      <td>273137200</td>\n",
       "    </tr>\n",
       "    <tr>\n",
       "      <th>77</th>\n",
       "      <td>5.967550</td>\n",
       "      <td>CARGO_ALL_OF_TYPE</td>\n",
       "      <td>273137200</td>\n",
       "    </tr>\n",
       "    <tr>\n",
       "      <th>78</th>\n",
       "      <td>5.967550</td>\n",
       "      <td>CARGO_ALL_OF_TYPE</td>\n",
       "      <td>273137200</td>\n",
       "    </tr>\n",
       "    <tr>\n",
       "      <th>79</th>\n",
       "      <td>5.967550</td>\n",
       "      <td>CARGO_ALL_OF_TYPE</td>\n",
       "      <td>273137200</td>\n",
       "    </tr>\n",
       "    <tr>\n",
       "      <th>80</th>\n",
       "      <td>5.967550</td>\n",
       "      <td>CARGO_ALL_OF_TYPE</td>\n",
       "      <td>273137200</td>\n",
       "    </tr>\n",
       "    <tr>\n",
       "      <th>81</th>\n",
       "      <td>5.967550</td>\n",
       "      <td>CARGO_ALL_OF_TYPE</td>\n",
       "      <td>273137200</td>\n",
       "    </tr>\n",
       "    <tr>\n",
       "      <th>82</th>\n",
       "      <td>5.967550</td>\n",
       "      <td>CARGO_ALL_OF_TYPE</td>\n",
       "      <td>273137200</td>\n",
       "    </tr>\n",
       "    <tr>\n",
       "      <th>83</th>\n",
       "      <td>5.967550</td>\n",
       "      <td>CARGO_ALL_OF_TYPE</td>\n",
       "      <td>273137200</td>\n",
       "    </tr>\n",
       "    <tr>\n",
       "      <th>84</th>\n",
       "      <td>5.967550</td>\n",
       "      <td>CARGO_ALL_OF_TYPE</td>\n",
       "      <td>273137200</td>\n",
       "    </tr>\n",
       "    <tr>\n",
       "      <th>85</th>\n",
       "      <td>5.967550</td>\n",
       "      <td>CARGO_ALL_OF_TYPE</td>\n",
       "      <td>273137200</td>\n",
       "    </tr>\n",
       "    <tr>\n",
       "      <th>86</th>\n",
       "      <td>5.967550</td>\n",
       "      <td>CARGO_ALL_OF_TYPE</td>\n",
       "      <td>273137200</td>\n",
       "    </tr>\n",
       "    <tr>\n",
       "      <th>87</th>\n",
       "      <td>5.967550</td>\n",
       "      <td>CARGO_ALL_OF_TYPE</td>\n",
       "      <td>273137200</td>\n",
       "    </tr>\n",
       "    <tr>\n",
       "      <th>88</th>\n",
       "      <td>5.967550</td>\n",
       "      <td>CARGO_ALL_OF_TYPE</td>\n",
       "      <td>273137200</td>\n",
       "    </tr>\n",
       "    <tr>\n",
       "      <th>89</th>\n",
       "      <td>5.967550</td>\n",
       "      <td>CARGO_ALL_OF_TYPE</td>\n",
       "      <td>273137200</td>\n",
       "    </tr>\n",
       "    <tr>\n",
       "      <th>90</th>\n",
       "      <td>5.967550</td>\n",
       "      <td>CARGO_ALL_OF_TYPE</td>\n",
       "      <td>273137200</td>\n",
       "    </tr>\n",
       "    <tr>\n",
       "      <th>91</th>\n",
       "      <td>7.099327</td>\n",
       "      <td>CARGO_ALL_OF_TYPE</td>\n",
       "      <td>355402000</td>\n",
       "    </tr>\n",
       "    <tr>\n",
       "      <th>92</th>\n",
       "      <td>7.099327</td>\n",
       "      <td>CARGO_ALL_OF_TYPE</td>\n",
       "      <td>355402000</td>\n",
       "    </tr>\n",
       "    <tr>\n",
       "      <th>93</th>\n",
       "      <td>7.099327</td>\n",
       "      <td>CARGO_ALL_OF_TYPE</td>\n",
       "      <td>355402000</td>\n",
       "    </tr>\n",
       "    <tr>\n",
       "      <th>94</th>\n",
       "      <td>7.099327</td>\n",
       "      <td>CARGO_ALL_OF_TYPE</td>\n",
       "      <td>355402000</td>\n",
       "    </tr>\n",
       "    <tr>\n",
       "      <th>95</th>\n",
       "      <td>7.099327</td>\n",
       "      <td>CARGO_ALL_OF_TYPE</td>\n",
       "      <td>355402000</td>\n",
       "    </tr>\n",
       "    <tr>\n",
       "      <th>96</th>\n",
       "      <td>6.327661</td>\n",
       "      <td>OTHER_TYPE_NO_ADDITIONAL_INFO</td>\n",
       "      <td>740339000</td>\n",
       "    </tr>\n",
       "    <tr>\n",
       "      <th>97</th>\n",
       "      <td>6.327661</td>\n",
       "      <td>OTHER_TYPE_NO_ADDITIONAL_INFO</td>\n",
       "      <td>740339000</td>\n",
       "    </tr>\n",
       "    <tr>\n",
       "      <th>98</th>\n",
       "      <td>6.327661</td>\n",
       "      <td>OTHER_TYPE_NO_ADDITIONAL_INFO</td>\n",
       "      <td>740339000</td>\n",
       "    </tr>\n",
       "    <tr>\n",
       "      <th>99</th>\n",
       "      <td>6.327661</td>\n",
       "      <td>OTHER_TYPE_NO_ADDITIONAL_INFO</td>\n",
       "      <td>740339000</td>\n",
       "    </tr>\n",
       "  </tbody>\n",
       "</table>\n",
       "<p>100 rows × 3 columns</p>\n",
       "</div>"
      ],
      "text/plain": [
       "       SPEED                           TYPE       mmsi\n",
       "0   5.401662          OTHER_TYPE_RESERVED_1  273457410\n",
       "1   5.401662          OTHER_TYPE_RESERVED_1  273457410\n",
       "2   5.401662          OTHER_TYPE_RESERVED_1  273457410\n",
       "3   5.401662          OTHER_TYPE_RESERVED_1  273457410\n",
       "4   5.401662          OTHER_TYPE_RESERVED_1  273457410\n",
       "5   5.401662          OTHER_TYPE_RESERVED_1  273457410\n",
       "6   5.401662          OTHER_TYPE_RESERVED_1  273457410\n",
       "7   5.401662          OTHER_TYPE_RESERVED_1  273457410\n",
       "8   5.401662          OTHER_TYPE_RESERVED_1  273457410\n",
       "9   5.401662          OTHER_TYPE_RESERVED_1  273457410\n",
       "10  5.401662          OTHER_TYPE_RESERVED_1  273457410\n",
       "11  5.401662          OTHER_TYPE_RESERVED_1  273457410\n",
       "12  5.401662          OTHER_TYPE_RESERVED_1  273457410\n",
       "13  5.401662          OTHER_TYPE_RESERVED_1  273457410\n",
       "14  5.401662          OTHER_TYPE_RESERVED_1  273457410\n",
       "15  5.401662          OTHER_TYPE_RESERVED_1  273457410\n",
       "16  5.401662          OTHER_TYPE_RESERVED_1  273457410\n",
       "17  5.401662          OTHER_TYPE_RESERVED_1  273457410\n",
       "18  5.401662          OTHER_TYPE_RESERVED_1  273457410\n",
       "19  5.401662          OTHER_TYPE_RESERVED_1  273457410\n",
       "20  5.401662          OTHER_TYPE_RESERVED_1  273457410\n",
       "21  5.401662          OTHER_TYPE_RESERVED_1  273457410\n",
       "22  5.401662          OTHER_TYPE_RESERVED_1  273457410\n",
       "23  5.401662          OTHER_TYPE_RESERVED_1  273457410\n",
       "24  5.401662          OTHER_TYPE_RESERVED_1  273457410\n",
       "25  5.401662          OTHER_TYPE_RESERVED_1  273457410\n",
       "26  7.819549             TANKER_ALL_OF_TYPE  240865000\n",
       "27  7.819549             TANKER_ALL_OF_TYPE  240865000\n",
       "28  7.819549             TANKER_ALL_OF_TYPE  240865000\n",
       "29  5.813217              CARGO_ALL_OF_TYPE  636015431\n",
       "..       ...                            ...        ...\n",
       "70  5.967550              CARGO_ALL_OF_TYPE  273137200\n",
       "71  5.967550              CARGO_ALL_OF_TYPE  273137200\n",
       "72  5.967550              CARGO_ALL_OF_TYPE  273137200\n",
       "73  5.967550              CARGO_ALL_OF_TYPE  273137200\n",
       "74  5.967550              CARGO_ALL_OF_TYPE  273137200\n",
       "75  5.967550              CARGO_ALL_OF_TYPE  273137200\n",
       "76  5.967550              CARGO_ALL_OF_TYPE  273137200\n",
       "77  5.967550              CARGO_ALL_OF_TYPE  273137200\n",
       "78  5.967550              CARGO_ALL_OF_TYPE  273137200\n",
       "79  5.967550              CARGO_ALL_OF_TYPE  273137200\n",
       "80  5.967550              CARGO_ALL_OF_TYPE  273137200\n",
       "81  5.967550              CARGO_ALL_OF_TYPE  273137200\n",
       "82  5.967550              CARGO_ALL_OF_TYPE  273137200\n",
       "83  5.967550              CARGO_ALL_OF_TYPE  273137200\n",
       "84  5.967550              CARGO_ALL_OF_TYPE  273137200\n",
       "85  5.967550              CARGO_ALL_OF_TYPE  273137200\n",
       "86  5.967550              CARGO_ALL_OF_TYPE  273137200\n",
       "87  5.967550              CARGO_ALL_OF_TYPE  273137200\n",
       "88  5.967550              CARGO_ALL_OF_TYPE  273137200\n",
       "89  5.967550              CARGO_ALL_OF_TYPE  273137200\n",
       "90  5.967550              CARGO_ALL_OF_TYPE  273137200\n",
       "91  7.099327              CARGO_ALL_OF_TYPE  355402000\n",
       "92  7.099327              CARGO_ALL_OF_TYPE  355402000\n",
       "93  7.099327              CARGO_ALL_OF_TYPE  355402000\n",
       "94  7.099327              CARGO_ALL_OF_TYPE  355402000\n",
       "95  7.099327              CARGO_ALL_OF_TYPE  355402000\n",
       "96  6.327661  OTHER_TYPE_NO_ADDITIONAL_INFO  740339000\n",
       "97  6.327661  OTHER_TYPE_NO_ADDITIONAL_INFO  740339000\n",
       "98  6.327661  OTHER_TYPE_NO_ADDITIONAL_INFO  740339000\n",
       "99  6.327661  OTHER_TYPE_NO_ADDITIONAL_INFO  740339000\n",
       "\n",
       "[100 rows x 3 columns]"
      ]
     },
     "execution_count": 41,
     "metadata": {},
     "output_type": "execute_result"
    }
   ],
   "source": [
    "sql_query='''\n",
    "SELECT p1.mmsi,p1.speed_over_ground AS SPEED, p2.ship_type AS TYPE\n",
    "FROM dyn1000000 AS p1\n",
    "INNER JOIN stat1000000 AS p2\n",
    "ON p1.mmsi = p2.mmsi AND p1.timestamp > p2.timestamp\n",
    "LIMIT 100;\n",
    "'''\n",
    "query2010 = dw.query('alhaol/ais', sql_query)\n",
    "query2010=query2010.dataframe\n",
    "query2010.head(100)"
   ]
  },
  {
   "cell_type": "code",
   "execution_count": 16,
   "metadata": {
    "collapsed": false
   },
   "outputs": [
    {
     "data": {
      "text/plain": [
       "100"
      ]
     },
     "execution_count": 16,
     "metadata": {},
     "output_type": "execute_result"
    }
   ],
   "source": [
    "len(query2010)"
   ]
  },
  {
   "cell_type": "code",
   "execution_count": null,
   "metadata": {
    "collapsed": false,
    "deletable": true,
    "editable": true
   },
   "outputs": [],
   "source": [
    "# SQL\n",
    "\n",
    "## Multi-table join exercise\n",
    "\n",
    "# Define query string. Note that secondary table and fields are explicitly referenced using dataset key (ownerid/tableid)\n",
    "sql_query = \"SELECT state, count(fmid) as count, Avg(obesity.Value) as obesityAvg FROM Export LEFT JOIN health.`obesity-by-state-2014`.`adult_obese` as obesity ON state = obesity.location GROUP BY state ORDER BY count desc\"\n",
    "\n",
    "# Query 'local' table, passing query string as parameter\n",
    "queryResults = dw.query('https://data.world/agriculture/national-farmers-markets', sql_query)\n",
    "\n",
    "# Create dataframe using dataframe property\n",
    "stateStats = queryResults.dataframe\n",
    "\n",
    "# Plot results on state\n",
    "stateStats.plot(x='state')"
   ]
  },
  {
   "cell_type": "code",
   "execution_count": null,
   "metadata": {
    "collapsed": false,
    "deletable": true,
    "editable": true
   },
   "outputs": [],
   "source": [
    "# SPARQL\n",
    "## Learn SPARQL using our tutorial at https://docs.data.world/documentation/api/sparql.html\n",
    "\n",
    "# Define query string\n",
    "sparql_query = \"PREFIX GOT: <https://tutorial.linked.data.world/d/sparqltutorial/> SELECT ?FName ?LName WHERE {?person GOT:col-got-house \\\"Stark\\\" . ?person GOT:col-got-fname ?FName . ?person GOT:col-got-lname ?LName .}\"\n",
    "\n",
    "# Query table, passing query string and `query_type` as parameters\n",
    "queryResults = dw.query('http://data.world/tutorial/sparqltutorial', sparql_query, query_type='sparql')\n",
    "\n",
    "# Create dataframe using dataframe property\n",
    "houseStark = queryResults.dataframe\n",
    "\n",
    "# Print first 5 rows of results\n",
    "pp.pprint(houseStark)\n"
   ]
  },
  {
   "cell_type": "markdown",
   "metadata": {
    "deletable": true,
    "editable": true
   },
   "source": [
    "## Advanced SDK Functionality\n",
    "\n",
    "The data.world Python SDK includes a variety of API wrappers, available via the `ApiClient` class, that let you create, replace, update, and delete a dataset. In this section, we’ll walk through a few common tasks:\n",
    "\n",
    "- Use `api_client()` to get an instance of the `ApiClient`\n",
    "- Create a dataset\n",
    "- Add a file from a dataframe: we’ll write to a local csv and the upload the file\n",
    "- Add a file from a source URL: this is an easy way to add external data to your dataset and keep it up to date. We’ll use a file from GitHub as an example, but you can use any URL source that points to a file.\n",
    "- Sync the dataset: this simple call reloads any files with a source URL, to ensure the latest version.\n",
    "- Update the dataset: after creating a dataset, use `update_dataset` to change attirbutes like description, summary or tags.\n",
    "\n",
    "Use `help(api_client)` to learn more about each available function or see the full [data.world API documentation](https://docs.data.world/documentation/api/).\n"
   ]
  },
  {
   "cell_type": "code",
   "execution_count": null,
   "metadata": {
    "collapsed": false,
    "deletable": true,
    "editable": true
   },
   "outputs": [],
   "source": [
    "# Create an instance of the ApiClient using `api_client()`\n",
    "api_client = dw.api_client()\n",
    "\n",
    "# See api_client documentation\n",
    "help(api_client)"
   ]
  },
  {
   "cell_type": "code",
   "execution_count": null,
   "metadata": {
    "collapsed": false,
    "deletable": true,
    "editable": true
   },
   "outputs": [],
   "source": [
    "# Create a dataset using create_dataset method. \n",
    "\n",
    "# Replace the < > items with your username and desired dataset title. Visibility can be changed to 'OPEN' if you choose.\n",
    "api_client.create_dataset(owner_id=\"alhaol\", title=\"Test\", visibility='PRIVATE')"
   ]
  },
  {
   "cell_type": "code",
   "execution_count": null,
   "metadata": {
    "collapsed": true,
    "deletable": true,
    "editable": true
   },
   "outputs": [],
   "source": [
    "# Write a dataframe to a local file and upload to dataset\n",
    "\n",
    "# Create dataframe\n",
    "police_shootings = dw.load_dataset('https://data.world/jonloyens/intermediate-data-world').dataframes['fatal_police_shootings_data']\n",
    "\n",
    "# Write dataframe to local csv using pandas to_csv() method\n",
    "police_shootings.to_csv('police_shootings.csv', encoding='utf-8')\n",
    "\n",
    "# Add file to your dataset using upload_files(). Replace the < > items with your dataset values\n",
    "api_client.upload_files('alhaol/test',['police_shootings.csv'])\n"
   ]
  },
  {
   "cell_type": "code",
   "execution_count": null,
   "metadata": {
    "collapsed": false,
    "deletable": true,
    "editable": true
   },
   "outputs": [],
   "source": [
    "# Update dataset\n",
    "\n",
    "# Add a file from an external source URL. In this example we'll use github. \n",
    "# Replace the < > items with your dataset values\n",
    "api_client.add_files_via_url('alhao/test',{'shootings_of_police1.csv': 'https://github.com/fivethirtyeight/data/blob/master/police-deaths/all_data.csv'})\n",
    "\n",
    "# For files added with add_files_via_url, fetch the latest version using the sync() method:\n",
    "api_client.sync_files('alhaol/test')\n",
    "                                                                \n",
    "# Use the update_dataset() method to update the metadata after dataset creation:\n",
    "api_client.update_dataset('alhaol/test', description='Dataset created to test out the python SDK functionality.', tags=['test', 'datacamp'])\n"
   ]
  },
  {
   "cell_type": "code",
   "execution_count": null,
   "metadata": {
    "collapsed": true
   },
   "outputs": [],
   "source": []
  }
 ],
 "metadata": {
  "anaconda-cloud": {},
  "kernelspec": {
   "display_name": "Python [default]",
   "language": "python",
   "name": "python2"
  },
  "language_info": {
   "codemirror_mode": {
    "name": "ipython",
    "version": 2
   },
   "file_extension": ".py",
   "mimetype": "text/x-python",
   "name": "python",
   "nbconvert_exporter": "python",
   "pygments_lexer": "ipython2",
   "version": "2.7.12"
  }
 },
 "nbformat": 4,
 "nbformat_minor": 2
}
